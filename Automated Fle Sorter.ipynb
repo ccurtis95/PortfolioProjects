{
 "cells": [
  {
   "cell_type": "code",
   "execution_count": 2,
   "metadata": {},
   "outputs": [],
   "source": [
    "import os, shutil"
   ]
  },
  {
   "cell_type": "code",
   "execution_count": 9,
   "metadata": {},
   "outputs": [],
   "source": [
    "path = r\"C:/Users/ccurt/Downloads/Career/Education/Alex the Analyst Bootcamp/Python/Test File/\""
   ]
  },
  {
   "cell_type": "code",
   "execution_count": 4,
   "metadata": {},
   "outputs": [
    {
     "data": {
      "text/plain": [
       "['Annotation 2019-09-14 184818.png',\n",
       " 'chicken.csv',\n",
       " 'text.txt',\n",
       " 'Total Rev Measure.jpg']"
      ]
     },
     "execution_count": 4,
     "metadata": {},
     "output_type": "execute_result"
    }
   ],
   "source": [
    "os.listdir(path)"
   ]
  },
  {
   "cell_type": "code",
   "execution_count": 13,
   "metadata": {},
   "outputs": [
    {
     "name": "stdout",
     "output_type": "stream",
     "text": [
      "C:/Users/ccurt/Downloads/Career/Education/Alex the Analyst Bootcamp/Python/Test File/csv files\n",
      "C:/Users/ccurt/Downloads/Career/Education/Alex the Analyst Bootcamp/Python/Test File/image files\n",
      "C:/Users/ccurt/Downloads/Career/Education/Alex the Analyst Bootcamp/Python/Test File/text files\n"
     ]
    }
   ],
   "source": [
    "folder_names = ['csv files', 'image files', 'text files']\n",
    "\n",
    "for loop in range(0,3):\n",
    "    if not os.path.exists(path + folder_names[loop]):\n",
    "        print(path + folder_names[loop])\n",
    "        os.makedirs(path + folder_names[loop])\n"
   ]
  },
  {
   "cell_type": "code",
   "execution_count": 14,
   "metadata": {},
   "outputs": [],
   "source": [
    "file_name = os.listdir(path)"
   ]
  },
  {
   "cell_type": "code",
   "execution_count": 19,
   "metadata": {},
   "outputs": [
    {
     "name": "stdout",
     "output_type": "stream",
     "text": [
      "There are files in this path that could not be moved\n",
      "There are files in this path that could not be moved\n",
      "There are files in this path that could not be moved\n",
      "There are files in this path that could not be moved\n",
      "There are files in this path that could not be moved\n",
      "There are files in this path that could not be moved\n"
     ]
    }
   ],
   "source": [
    "for file in file_name:\n",
    "    if \".csv\" in file and not os.path.exists(path + \"/csv files/\" + file):\n",
    "        shutil.move(path + file,path + \"/csv files/\" + file)\n",
    "    elif \".png\" in file and not os.path.exists(path + \"/image files/\" + file):\n",
    "        shutil.move(path + file,path + \"/image files/\" + file)\n",
    "    elif \".jpg\" in file and not os.path.exists(path + \"/image files/\" + file):\n",
    "        shutil.move(path + file,path + \"/image files/\" + file)\n",
    "    elif \".txt\" in file and not os.path.exists(path + \"/text files/\" + file):\n",
    "        shutil.move(path + file,path + \"/text files/\" + file)\n",
    "    else:\n",
    "        print(\"There are files in this path that could not be moved\")"
   ]
  },
  {
   "cell_type": "code",
   "execution_count": 25,
   "metadata": {},
   "outputs": [],
   "source": [
    "folder_names = ['csv files', 'image files', 'text files']\n",
    "\n",
    "for loop in range(0,3):\n",
    "    if not os.path.exists(path + folder_names[loop]):\n",
    "        print(path + folder_names[loop])\n",
    "        os.makedirs(path + folder_names[loop])\n",
    "\n",
    "\n",
    "for file in file_name:\n",
    "    if \".csv\" in file and not os.path.exists(path + \"/csv files/\" + file):\n",
    "        shutil.move(path + file,path + \"/csv files/\" + file)\n",
    "    elif \".png\" in file and not os.path.exists(path + \"/image files/\" + file):\n",
    "        shutil.move(path + file,path + \"/image files/\" + file)\n",
    "    elif \".jpg\" in file and not os.path.exists(path + \"/image files/\" + file):\n",
    "        shutil.move(path + file,path + \"/image files/\" + file)\n",
    "    elif \".txt\" in file and not os.path.exists(path + \"/text files/\" + file):\n",
    "        shutil.move(path + file,path + \"/text files/\" + file)"
   ]
  },
  {
   "cell_type": "code",
   "execution_count": null,
   "metadata": {},
   "outputs": [],
   "source": []
  },
  {
   "cell_type": "code",
   "execution_count": null,
   "metadata": {},
   "outputs": [],
   "source": []
  },
  {
   "cell_type": "code",
   "execution_count": null,
   "metadata": {},
   "outputs": [],
   "source": []
  },
  {
   "cell_type": "code",
   "execution_count": null,
   "metadata": {},
   "outputs": [],
   "source": []
  },
  {
   "cell_type": "code",
   "execution_count": null,
   "metadata": {},
   "outputs": [],
   "source": []
  },
  {
   "cell_type": "code",
   "execution_count": null,
   "metadata": {},
   "outputs": [],
   "source": []
  }
 ],
 "metadata": {
  "kernelspec": {
   "display_name": "Python 3",
   "language": "python",
   "name": "python3"
  },
  "language_info": {
   "codemirror_mode": {
    "name": "ipython",
    "version": 3
   },
   "file_extension": ".py",
   "mimetype": "text/x-python",
   "name": "python",
   "nbconvert_exporter": "python",
   "pygments_lexer": "ipython3",
   "version": "3.12.0"
  }
 },
 "nbformat": 4,
 "nbformat_minor": 2
}
